{
 "cells": [
  {
   "cell_type": "code",
   "execution_count": 28,
   "id": "183ac0c1-f2fc-49d3-b49b-2b154ea0160a",
   "metadata": {},
   "outputs": [],
   "source": [
    "import pandas as pd\n",
    "import numpy as np\n",
    "from pathlib import Path\n",
    "\n",
    "from utilities.nn_utils import *\n",
    "from utilities.data_augmenting import corr2clusters\n",
    "\n",
    "from IPython.display import display, Markdown\n",
    "from tqdm.notebook import tqdm\n",
    "\n",
    "from sklearn.preprocessing import OneHotEncoder\n",
    "from sklearn.ensemble import RandomForestClassifier\n",
    "from sklearn.metrics import accuracy_score\n",
    "from sklearn.model_selection import KFold\n",
    "\n",
    "import networkx as nx\n",
    "import community as community_louvain"
   ]
  },
  {
   "cell_type": "code",
   "execution_count": 83,
   "id": "dc3360d7-0715-49ba-8d20-3c712eaa421c",
   "metadata": {},
   "outputs": [],
   "source": [
    "def winsorize_dataframe(df, lower_quantile=0.05, upper_quantile=0.95):\n",
    "    df_winsorized = df.copy()\n",
    "    limits = {}\n",
    "\n",
    "    for column in df_winsorized.select_dtypes(include=[np.number]).columns:\n",
    "        lower_limit = df_winsorized[column].quantile(lower_quantile)\n",
    "        upper_limit = df_winsorized[column].quantile(upper_quantile)\n",
    "\n",
    "        # Store the limits for each column\n",
    "        limits[column] = {'min': lower_limit, 'max': upper_limit}\n",
    "\n",
    "        # Cap the values to the calculated limits\n",
    "        df_winsorized[column] = np.clip(df_winsorized[column], lower_limit, upper_limit)\n",
    "\n",
    "    return df_winsorized, limits\n",
    "\n",
    "\n",
    "def apply_winsorization_limits(df, limits):\n",
    "    df_clipped = df.copy()\n",
    "\n",
    "    for column, bound in limits.items():\n",
    "        if column in df_clipped.columns:\n",
    "            df_clipped[column] = np.clip(df_clipped[column], bound['min'], bound['max'])\n",
    "\n",
    "    return df_clipped\n",
    "\n",
    "def column2onehot(x_table, column, ohencoder=None):\n",
    "    if ohencoder is None:\n",
    "        ohencoder = OneHotEncoder(handle_unknown='ignore').fit(x_table[column].values.reshape(-1, 1))\n",
    "    ohe_values = ohencoder.transform(x_table[column].values.reshape(-1, 1)).toarray()\n",
    "    column_names = [f'{column}_ohe_{i}' for i in range(ohe_values.shape[1])]\n",
    "    ohe_df = pd.DataFrame(index=x_table.index, columns=column_names)\n",
    "    ohe_df.iloc[:] = ohe_values\n",
    "    return ohe_df, ohencoder"
   ]
  },
  {
   "cell_type": "code",
   "execution_count": 4,
   "id": "3e6a778c-0dbc-4fee-af35-3cdd4bbb61bf",
   "metadata": {},
   "outputs": [],
   "source": [
    "data_path = Path(\"/Users/adamsulik/Workspace/qrt_datachallenge/data\")"
   ]
  },
  {
   "cell_type": "code",
   "execution_count": 5,
   "id": "a7ba32c9-ba6c-4ebf-80f7-0bd6d568311f",
   "metadata": {},
   "outputs": [],
   "source": [
    "x_train = pd.read_csv(data_path / 'x_train_Lafd4AH.csv', index_col='ID')\n",
    "y_train = pd.read_csv(data_path / 'y_train_JQU4vbI.csv', index_col='ID')\n",
    "\n",
    "x_test = pd.read_csv(data_path / 'x_test_c7ETL4q.csv', index_col='ID')"
   ]
  },
  {
   "cell_type": "code",
   "execution_count": 6,
   "id": "819a325a-eb31-42fe-a64d-57e8cfff7428",
   "metadata": {},
   "outputs": [],
   "source": [
    "train_stock = pd.Index(x_train['STOCK'].unique())\n",
    "test_stock = pd.Index(x_test['STOCK'].unique())"
   ]
  },
  {
   "cell_type": "code",
   "execution_count": 101,
   "id": "bd9731e6-4d4c-4d57-a55b-11048bb2d9b3",
   "metadata": {},
   "outputs": [],
   "source": [
    "df_melted = pd.concat([x_train, x_test])[['STOCK', 'DATE']+[f'RET_{i}' for i in range(1, 10)]]\\\n",
    "                .melt(id_vars=['STOCK', 'DATE'],var_name=\"RET_TYPE\", value_name=\"RET_VALUE\")\n",
    "df_melted[\"RET_DATE\"] = df_melted[\"RET_TYPE\"] + \"_\" + df_melted[\"DATE\"].astype(str)\n",
    "df_pivot = df_melted.pivot(index=\"STOCK\", columns=\"RET_DATE\", values=\"RET_VALUE\")\n",
    "df_pivot = df_pivot.sort_index(axis=1)\n",
    "df_pivot.columns.name = None\n",
    "corr = df_pivot.T.corr().astype(float).fillna(0)\n",
    "\n",
    "filtered_corr = corr.where(corr >= .45, other=0)\n",
    "G = nx.from_pandas_adjacency(filtered_corr)\n",
    "partition = community_louvain.best_partition(G, weight='weight', random_state=42)\n",
    "groups = pd.DataFrame(list(partition.items()), columns=[\"STOCK\", \"Group\"])['Group']\n",
    "\n",
    "# Apply groups to sets\n",
    "train_with_groups = x_train.merge(groups, left_on='STOCK', right_index=True)\n",
    "test_with_groups = x_test.merge(groups, left_on='STOCK', right_index=True)"
   ]
  },
  {
   "cell_type": "code",
   "execution_count": 119,
   "id": "bdefbdc1-bafb-47b4-98a1-528d5ccce6fb",
   "metadata": {},
   "outputs": [],
   "source": [
    "def prepare_data(xdf, days_back, winsor_limits=None, ohencoder=None, upper_ohencoder=None):\n",
    "    xdf.replace([np.inf, -np.inf], np.nan, inplace=True)\n",
    "    xdf.fillna(0, inplace=True)\n",
    "    # pick relevant columns\n",
    "    all_ret_columns = [c for c in xdf.columns if c.startswith('RET_')]\n",
    "    ret_columns = [f'RET_{i}' for i in range(1, days_back+1)]\n",
    "    vol_columns = [f'VOLUME_{i}' for i in range(1, days_back+1)]\n",
    "    group_columns = ['Group']#, 'upper_group']\n",
    "    numerical_columns = ret_columns+vol_columns\n",
    "    rel_columns = ret_columns+vol_columns+group_columns\n",
    "    \n",
    "    xdf = xdf[['DATE'] + rel_columns]\n",
    "    \n",
    "    # normalize returns by std\n",
    "    ret_std = xdf[ret_columns].std(axis=1).fillna(1)\n",
    "    xdf.loc[:, ret_columns] = xdf[ret_columns].fillna(0).values / ret_std.values[:, np.newaxis]\n",
    "    \n",
    "    # winsorize volumes and returns\n",
    "    if not winsor_limits:\n",
    "        xdf.loc[:, numerical_columns], winsor_limits = winsorize_dataframe(xdf[numerical_columns], lower_quantile=0.01, upper_quantile=0.99)\n",
    "    else:\n",
    "        xdf = apply_winsorization_limits(xdf, winsor_limits)\n",
    "\n",
    "    group_stats = xdf.groupby(['DATE', 'Group'])[['RET_1']]\\\n",
    "                     .agg(['mean', 'std'])['RET_1']\\\n",
    "                     .rename(columns={'mean': 'group_mean', 'std': 'group_std'})\n",
    "    group_stats2 = xdf.groupby(['DATE', 'Group'])[['RET_2']]\\\n",
    "                     .agg(['mean', 'std'])['RET_2']\\\n",
    "                     .rename(columns={'mean': 'group_mean2', 'std': 'group_std2'})\n",
    "    \n",
    "    group_vol_stats = xdf.groupby(['DATE', 'Group'])[['VOLUME_1']]\\\n",
    "                     .agg(['mean', 'std'])['VOLUME_1']\\\n",
    "                     .rename(columns={'mean': 'group_vol_mean', 'std': 'group_vol_std'})\n",
    "    \n",
    "    xdf = xdf.merge(group_stats, on=['DATE', 'Group'])\n",
    "    xdf = xdf.merge(group_stats2, on=['DATE', 'Group'])\n",
    "    xdf = xdf.merge(group_vol_stats, on=['DATE', 'Group'])\n",
    "\n",
    "    rel_columns = rel_columns + ['group_mean', 'group_std', 'group_mean2', 'group_std2', 'group_vol_mean', 'group_vol_std']\n",
    "    xdf = xdf[rel_columns]\n",
    "\n",
    "    # Group encoding\n",
    "    group_encoding, ohencoder = column2onehot(xdf, 'Group', ohencoder)\n",
    "    xdf = xdf.join(group_encoding).drop(columns=['Group'])\n",
    "    \n",
    "    return xdf, winsor_limits, ohencoder#, upper_ohencoder"
   ]
  },
  {
   "cell_type": "code",
   "execution_count": 121,
   "id": "31199784-c42e-405e-a5e4-7def7460640f",
   "metadata": {},
   "outputs": [
    {
     "name": "stderr",
     "output_type": "stream",
     "text": [
      "/var/folders/4j/_p_42xsd5395pr3dqwmj_03m0000gn/T/ipykernel_34047/2454939815.py:16: RuntimeWarning: invalid value encountered in divide\n",
      "  xdf.loc[:, ret_columns] = xdf[ret_columns].fillna(0).values / ret_std.values[:, np.newaxis]\n",
      "/var/folders/4j/_p_42xsd5395pr3dqwmj_03m0000gn/T/ipykernel_34047/2454939815.py:16: RuntimeWarning: invalid value encountered in divide\n",
      "  xdf.loc[:, ret_columns] = xdf[ret_columns].fillna(0).values / ret_std.values[:, np.newaxis]\n"
     ]
    }
   ],
   "source": [
    "days_back = 5\n",
    "\n",
    "processed_x_train, winsor_limits, ohencoder = prepare_data(train_with_groups, days_back=days_back)\n",
    "processed_x_test, _, _ = prepare_data(test_with_groups, days_back=days_back, winsor_limits=winsor_limits, ohencoder=ohencoder)"
   ]
  },
  {
   "cell_type": "markdown",
   "id": "12d831a7-0a7d-4799-bd7e-e405c494c8a5",
   "metadata": {},
   "source": [
    "# Train model"
   ]
  },
  {
   "cell_type": "code",
   "execution_count": null,
   "id": "101f705d-3aad-4ce9-9b5b-62c5537f0432",
   "metadata": {
    "scrolled": true
   },
   "outputs": [],
   "source": [
    "SEED = 42\n",
    "NUM_WORKERS = 10\n",
    "PRINT_EVERY=1\n",
    "EPOCHS = 15\n",
    "\n",
    "device = choose_device()\n",
    "learning_rate = 1e-3\n",
    "model_hidden_layers = [8, 8]\n",
    "dropout_rate = [0.4, 0.4]\n",
    "X = processed_x_train.astype(float).fillna(0).values\n",
    "Y = y_train['RET'].astype(int).values\n",
    "dates_arr = x_train['DATE']\n",
    "\n",
    "# Standarize numerical values\n",
    "# scaler = StandardScaler().fit(X)\n",
    "# X = scaler.transform(X)\n",
    "\n",
    "# run k-fold cv\n",
    "cv_results = run_k_fold_training(X, Y, random_seed=SEED, num_workers=NUM_WORKERS, device=device, epochs=EPOCHS,\n",
    "                                 split_type='date', date_array=dates_arr, print_every_epoch=PRINT_EVERY,\n",
    "                                 lr=learning_rate, model_hidden_layers=model_hidden_layers, dropout_rate=dropout_rate\n",
    "                                )"
   ]
  },
  {
   "cell_type": "code",
   "execution_count": null,
   "id": "0e6dbe93-b605-4535-96ff-30edae5fe499",
   "metadata": {},
   "outputs": [],
   "source": [
    "cv_results = pd.DataFrame(cv_results)#.set_index('fold')\n",
    "avg_acc = cv_results['accuracy'].mean()\n",
    "std_acc = cv_results['accuracy'].std()\n",
    "\n",
    "upper_bound_acc = avg_acc + std_acc\n",
    "lower_bound_acc = avg_acc - std_acc\n",
    "\n",
    "print(f'Accuracy: {avg_acc:.5f} [{lower_bound_acc:.5f}; {upper_bound_acc:.5f}] (+- {std_acc:.6f}), based on 4 kfolds')"
   ]
  },
  {
   "cell_type": "markdown",
   "id": "5d9752aa-123c-4f11-8e51-b4ad9045843c",
   "metadata": {},
   "source": [
    "Train on full dataset"
   ]
  },
  {
   "cell_type": "code",
   "execution_count": null,
   "id": "6d98eb86-ac16-4356-bd3d-2fafde87e9d9",
   "metadata": {
    "scrolled": true
   },
   "outputs": [],
   "source": [
    "SEED = 42\n",
    "NUM_WORKERS = 10\n",
    "PRINT_EVERY=5\n",
    "EPOCHS = 100\n",
    "learning_rate = 1e-3\n",
    "\n",
    "model_hidden_layers = [8, 16]\n",
    "dropout_rate = [0.6, 0.4]\n",
    "\n",
    "exp_name = f'{days_back}d-nn-uppergroup_with_group_hierarchical'\n",
    "savedir = data_path.parent / 'outputs' / 'grouped_double_nn'\n",
    "savedir.mkdir(exist_ok=True, parents=True)\n",
    "date_array = x_train['DATE']\n",
    "\n",
    "ret_columns = [c for c in processed_x_train.columns if c.startswith('RET_')]\n",
    "vol_columns = [c for c in processed_x_train.columns if c.startswith('VOLUME_')]\n",
    "group_stats_columns = ['upper_group_mean', 'upper_group_std', 'group_mean', 'group_std']\n",
    "ohe_columns = [c for c in processed_x_train.columns if (c.startswith('Group_ohe') or c.startswith('upper_group_ohe'))]\n",
    "numerical_columns = ret_columns + vol_columns\n",
    "rel_columns = ret_columns + vol_columns + group_stats_columns + ohe_columns\n",
    "\n",
    "X = processed_x_train[rel_columns].astype(float).fillna(0).values\n",
    "Y = y_train['RET'].astype(int).values\n",
    "\n",
    "model_checkpoint, model_stats_df = full_dataset_training(\n",
    "    X, Y,\n",
    "    numerical_columns=numerical_columns,\n",
    "    output_storage_path=savedir,\n",
    "    bestmodel_exp_name=exp_name,\n",
    "    val_split=0.1,\n",
    "    batch_size=32,\n",
    "    epochs=EPOCHS,\n",
    "    seed=SEED,\n",
    "    print_every_epoch=PRINT_EVERY,\n",
    "    num_workers=NUM_WORKERS, device=choose_device(), lr=learning_rate,\n",
    "    model_hidden_layers=model_hidden_layers, dropout_rate=dropout_rate,\n",
    "    split_type='date', date_array=date_array,\n",
    "    crit_metric_name = 'accuracy',\n",
    ")"
   ]
  },
  {
   "cell_type": "code",
   "execution_count": 61,
   "id": "588888be-f5ed-4ba9-9c08-64d1a1baf3c8",
   "metadata": {},
   "outputs": [
    {
     "name": "stdout",
     "output_type": "stream",
     "text": [
      "epoch 20\n",
      "train_acc 0.515890865128262\n",
      "val_acc 0.51200925530042\n"
     ]
    }
   ],
   "source": [
    "for k in ['epoch', 'train_acc', 'val_acc']:\n",
    "    print(k, model_checkpoint[k])"
   ]
  },
  {
   "cell_type": "code",
   "execution_count": 62,
   "id": "e85297de-c83f-4b6a-ba7f-42be785231f1",
   "metadata": {},
   "outputs": [
    {
     "name": "stderr",
     "output_type": "stream",
     "text": [
      "/var/folders/4j/_p_42xsd5395pr3dqwmj_03m0000gn/T/ipykernel_92509/2662149234.py:6: FutureWarning: You are using `torch.load` with `weights_only=False` (the current default value), which uses the default pickle module implicitly. It is possible to construct malicious pickle data which will execute arbitrary code during unpickling (See https://github.com/pytorch/pytorch/blob/main/SECURITY.md#untrusted-models for more details). In a future release, the default value for `weights_only` will be flipped to `True`. This limits the functions that could be executed during unpickling. Arbitrary objects will no longer be allowed to be loaded via this mode unless they are explicitly allowlisted by the user via `torch.serialization.add_safe_globals`. We recommend you start setting `weights_only=True` for any use case where you don't have full control of the loaded file. Please open an issue on GitHub for any issues related to this experimental feature.\n",
      "  model_checkpoint = torch.load(savedir / f'{exp_name}.pt', map_location=device)\n",
      "/Users/adamsulik/Workspace/qrt_datachallenge/notebooks/utilities/nn_utils.py:553: FutureWarning: You are using `torch.load` with `weights_only=False` (the current default value), which uses the default pickle module implicitly. It is possible to construct malicious pickle data which will execute arbitrary code during unpickling (See https://github.com/pytorch/pytorch/blob/main/SECURITY.md#untrusted-models for more details). In a future release, the default value for `weights_only` will be flipped to `True`. This limits the functions that could be executed during unpickling. Arbitrary objects will no longer be allowed to be loaded via this mode unless they are explicitly allowlisted by the user via `torch.serialization.add_safe_globals`. We recommend you start setting `weights_only=True` for any use case where you don't have full control of the loaded file. Please open an issue on GitHub for any issues related to this experimental feature.\n",
      "  checkpoint = torch.load(checkpoint_path, map_location=device)\n"
     ]
    }
   ],
   "source": [
    "# setup variables\n",
    "exp_name = f'{days_back}d-nn-uppergroup_with_group_hierarchical'\n",
    "savedir = data_path.parent / 'outputs' / 'grouped_double_nn'\n",
    "X_eval = processed_x_test.astype(float).values\n",
    "\n",
    "model_checkpoint = torch.load(savedir / f'{exp_name}.pt', map_location=device)\n",
    "\n",
    "probs = load_model_and_predict(savedir / f'{exp_name}.pt', X_eval,\n",
    "                               numerical_columns=numerical_columns,\n",
    "                               model_hidden_layers = [8, 16],\n",
    "                              )"
   ]
  },
  {
   "cell_type": "code",
   "execution_count": 72,
   "id": "1e598cd1-12b3-401d-a603-526c2d72fc45",
   "metadata": {},
   "outputs": [],
   "source": [
    "# probs\n",
    "eval_probs = pd.Series(probs, index=x_test.index)\n",
    "pred = (eval_probs > .5)\n",
    "pred.to_csv(savedir / 'pred.csv')"
   ]
  },
  {
   "cell_type": "markdown",
   "id": "80b9a0cf-b88e-42ae-933c-3f0bf6f19963",
   "metadata": {},
   "source": [
    "# Run training on trees"
   ]
  },
  {
   "cell_type": "code",
   "execution_count": 122,
   "id": "275d1ea5-a14c-4013-8861-71c2e5a23143",
   "metadata": {},
   "outputs": [
    {
     "name": "stdout",
     "output_type": "stream",
     "text": [
      "Fold 1 - Accuracy: 51.05%\n",
      "Fold 2 - Accuracy: 50.27%\n",
      "Fold 3 - Accuracy: 51.38%\n",
      "Fold 4 - Accuracy: 50.57%\n",
      "Accuracy: 50.82% [50.39 ; 51.24] (+- 0.43)\n"
     ]
    }
   ],
   "source": [
    "ret_columns = [c for c in processed_x_train.columns if c.startswith('RET_')]\n",
    "vol_columns = [c for c in processed_x_train.columns if c.startswith('VOLUME_')]\n",
    "group_stats_columns = ['group_mean', 'group_std', 'group_mean2', 'group_std2', 'group_vol_mean', 'group_vol_std']\n",
    "ohe_columns = [c for c in processed_x_train.columns if (c.startswith('Group_ohe') or c.startswith('upper_group_ohe'))]\n",
    "numerical_columns = ret_columns + vol_columns\n",
    "rel_columns = ret_columns + vol_columns + group_stats_columns\n",
    "\n",
    "X_train = processed_x_train[rel_columns].astype(float).fillna(0)\n",
    "Y = y_train['RET'].astype(int)\n",
    "\n",
    "# A quiet large number of trees with low depth to prevent overfits\n",
    "rf_params = {\n",
    "    'n_estimators': 500,\n",
    "    'max_depth': 2**3,\n",
    "    'random_state': 0,\n",
    "    'n_jobs': -1\n",
    "}\n",
    "\n",
    "train_dates = x_train['DATE'].unique()\n",
    "test_dates = x_test['DATE'].unique()\n",
    "\n",
    "n_splits = 4\n",
    "scores = []\n",
    "models = []\n",
    "\n",
    "splits = KFold(n_splits=n_splits, random_state=0,\n",
    "               shuffle=True).split(train_dates)\n",
    "\n",
    "for i, (local_train_dates_ids, local_test_dates_ids) in enumerate(splits):\n",
    "    local_train_dates = train_dates[local_train_dates_ids]\n",
    "    local_test_dates = train_dates[local_test_dates_ids]\n",
    "\n",
    "    local_train_ids = x_train['DATE'].isin(local_train_dates)\n",
    "    local_test_ids = x_train['DATE'].isin(local_test_dates)\n",
    "\n",
    "    X_local_train = X_train.loc[local_train_ids]\n",
    "    y_local_train = Y.loc[local_train_ids]\n",
    "    X_local_test = X_train.loc[local_test_ids]\n",
    "    y_local_test = Y.loc[local_test_ids]\n",
    "\n",
    "    X_local_train = X_local_train.fillna(0)\n",
    "    X_local_test = X_local_test.fillna(0)\n",
    "\n",
    "    model = RandomForestClassifier(**rf_params)\n",
    "    model.fit(X_local_train, y_local_train)\n",
    "\n",
    "    y_local_pred = model.predict_proba(X_local_test)[:, 1]\n",
    "    \n",
    "    sub = x_train.loc[local_test_ids].copy()\n",
    "    sub['pred'] = y_local_pred\n",
    "    y_local_pred = sub.groupby('DATE')['pred'].transform(lambda x: x > x.median()).values\n",
    "\n",
    "    models.append(model)\n",
    "    score = accuracy_score(y_local_test, y_local_pred)\n",
    "    scores.append(score)\n",
    "    print(f\"Fold {i+1} - Accuracy: {score* 100:.2f}%\")\n",
    "\n",
    "mean = np.mean(scores)*100\n",
    "std = np.std(scores)*100\n",
    "u = (mean + std)\n",
    "l = (mean - std)\n",
    "print(f'Accuracy: {mean:.2f}% [{l:.2f} ; {u:.2f}] (+- {std:.2f})')"
   ]
  },
  {
   "cell_type": "code",
   "execution_count": 123,
   "id": "871720b7-b721-4e0e-a661-4022d52ec9ae",
   "metadata": {},
   "outputs": [
    {
     "data": {
      "text/plain": [
       "<Axes: >"
      ]
     },
     "execution_count": 123,
     "metadata": {},
     "output_type": "execute_result"
    },
    {
     "data": {
      "image/png": "[encoded data removed]",
      "text/plain": [
       "<Figure size 640x480 with 1 Axes>"
      ]
     },
     "metadata": {},
     "output_type": "display_data"
    }
   ],
   "source": [
    "import seaborn as sns\n",
    "\n",
    "feature_importances = pd.DataFrame([model.feature_importances_ for model in models], columns=rel_columns)\n",
    "sns.barplot(data=feature_importances, orient='h', order=feature_importances.mean().sort_values(ascending=False).index)"
   ]
  }
 ],
 "metadata": {
  "kernelspec": {
   "display_name": "Python 3 (ipykernel)",
   "language": "python",
   "name": "python3"
  },
  "language_info": {
   "codemirror_mode": {
    "name": "ipython",
    "version": 3
   },
   "file_extension": ".py",
   "mimetype": "text/x-python",
   "name": "python",
   "nbconvert_exporter": "python",
   "pygments_lexer": "ipython3",
   "version": "3.12.6"
  }
 },
 "nbformat": 4,
 "nbformat_minor": 5
}
